{
 "cells": [
  {
   "cell_type": "code",
   "execution_count": 4,
   "id": "5b7c7d4b",
   "metadata": {},
   "outputs": [
    {
     "name": "stdout",
     "output_type": "stream",
     "text": [
      "0.6666666666666666\n",
      "2.0\n"
     ]
    }
   ],
   "source": [
    "import numpy as np\n",
    "y_true = [1, 0, 1]\n",
    "y_pred = [1, 0, 0]\n",
    "y_true = np.array(y_true)\n",
    "y_pred = np.array(y_pred)\n",
    "correct = (y_true==y_pred).astype(float)\n",
    "\n",
    "\n",
    "print(correct.mean())\n",
    "print(correct.sum())"
   ]
  },
  {
   "cell_type": "code",
   "execution_count": null,
   "id": "818f4545",
   "metadata": {},
   "outputs": [],
   "source": []
  }
 ],
 "metadata": {
  "kernelspec": {
   "display_name": "Python 3",
   "language": "python",
   "name": "python3"
  },
  "language_info": {
   "codemirror_mode": {
    "name": "ipython",
    "version": 3
   },
   "file_extension": ".py",
   "mimetype": "text/x-python",
   "name": "python",
   "nbconvert_exporter": "python",
   "pygments_lexer": "ipython3",
   "version": "3.13.5"
  }
 },
 "nbformat": 4,
 "nbformat_minor": 5
}
